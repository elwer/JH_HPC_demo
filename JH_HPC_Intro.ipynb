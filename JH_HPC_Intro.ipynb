{
 "cells": [
  {
   "cell_type": "markdown",
   "id": "897880e8-8fa4-48ed-a936-5c85976cebe3",
   "metadata": {},
   "source": [
    "# Hello Workshop!"
   ]
  },
  {
   "cell_type": "code",
   "execution_count": null,
   "id": "c6d858e7-7151-4968-949b-aa16c40331f1",
   "metadata": {},
   "outputs": [],
   "source": []
  }
 ],
 "metadata": {
  "kernelspec": {
   "display_name": "Python 3",
   "language": "python",
   "name": "python3"
  },
  "language_info": {
   "codemirror_mode": {
    "name": "ipython",
    "version": 3
   },
   "file_extension": ".py",
   "mimetype": "text/x-python",
   "name": "python",
   "nbconvert_exporter": "python",
   "pygments_lexer": "ipython3",
   "version": "3.8.10"
  }
 },
 "nbformat": 4,
 "nbformat_minor": 5
}
